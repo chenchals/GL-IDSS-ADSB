{
 "cells": [
  {
   "cell_type": "markdown",
   "metadata": {
    "id": "Be6hrAzLiBoQ"
   },
   "source": [
    "# <center>Brain tumor classification using convolutional neural networks<center>\n"
   ]
  },
  {
   "cell_type": "markdown",
   "metadata": {
    "id": "7eMcZ_HniBoV"
   },
   "source": [
    "## Generic library imports"
   ]
  },
  {
   "cell_type": "code",
   "execution_count": 1,
   "metadata": {
    "executionInfo": {
     "elapsed": 1517,
     "status": "ok",
     "timestamp": 1611763205635,
     "user": {
      "displayName": "Chenchal Subraveti",
      "photoUrl": "https://lh3.googleusercontent.com/a-/AOh14GivNJKKfSuSNWZpsmU1hP-d0E3xv1_9NB9fawlJMg=s64",
      "userId": "09393776770483346358"
     },
     "user_tz": 360
    },
    "id": "SSXVWAUViBoW"
   },
   "outputs": [],
   "source": [
    "#Base imports\n",
    "import sys\n",
    "import os\n",
    "import pathlib\n",
    "import importlib # for reloading local class \n",
    "import numpy as np\n",
    "import pandas as pd\n",
    "import matplotlib.pyplot as plt\n",
    "import seaborn as sns\n",
    "plt.style.use('seaborn')\n",
    "%matplotlib inline\n"
   ]
  },
  {
   "cell_type": "markdown",
   "metadata": {
    "id": "WdxAmCXFiBoW"
   },
   "source": [
    "## Check notebook environment \n",
    "- Runtime environment: Google Colab or local\n",
    "- Setup paths for reading datasets and saving outputs (models, figures, etc)\n",
    "    - If in *Colab Environment* copy to the running machine from Google Drive\n",
    "        - datafiles\n",
    "        - `btc_helpers.py` python file for importing helper classes and functions\n",
    "- Check availability of CPU/GPU/TPU and get the `strategy` to use for running models\n"
   ]
  },
  {
   "cell_type": "code",
   "execution_count": 2,
   "metadata": {
    "colab": {
     "base_uri": "https://localhost:8080/"
    },
    "executionInfo": {
     "elapsed": 4014,
     "status": "ok",
     "timestamp": 1611763812822,
     "user": {
      "displayName": "Chenchal Subraveti",
      "photoUrl": "https://lh3.googleusercontent.com/a-/AOh14GivNJKKfSuSNWZpsmU1hP-d0E3xv1_9NB9fawlJMg=s64",
      "userId": "09393776770483346358"
     },
     "user_tz": 360
    },
    "id": "-06Tsi_iiBoW",
    "outputId": "17246b29-3beb-4689-8407-9158f0f5c288"
   },
   "outputs": [
    {
     "name": "stdout",
     "output_type": "stream",
     "text": [
      "Not in Google Colab environment\n",
      "\n",
      "Contents of data folder [../DataSetBrainTumor]\n",
      "['Training_256.h5', 'readme.txt~', 'Training', 'Testing', 'readme.txt', 'Testing_256.h5']\n",
      "\n",
      "Contents of python source folder [btc]\n",
      "['.DS_Store', 'test_btc_DataUtils.py', '__init__.py', '__pycache__', 'btc_helpers.py']\n",
      "\n",
      "Output folders [./output/btc_cnn]\n",
      "['models', 'model-tuner', 'figures']\n",
      "\n",
      "Prefix for all saved files btc_cnn_\n",
      "\n"
     ]
    }
   ],
   "source": [
    "# output folder and file prefix\n",
    "outputSubfolder = 'btc_cnn'  # easy to manage if you create a subfoder under output\n",
    "saveFilePrefix = 'btc_cnn_'  # need the 2 underscores for subsequent parsing of attributes ffrom filename \n",
    "\n",
    "##----------Check colab environment---------##\n",
    "colabEnv = False\n",
    "try:\n",
    "    from google.colab import drive\n",
    "    colabEnv=True\n",
    "    drive.mount('/content/drive')\n",
    "    print('In Google Colab environment. Mounted drive at /content/drive/MyDrive')\n",
    "except:\n",
    "    print('Not in Google Colab environment')\n",
    "    \n",
    "##--------------Setup paths----------------##\n",
    "if colabEnv:\n",
    "    # make a directory at current working directorys\n",
    "    pathlib.Path('DataSetBrainTumor').mkdir(parents=True,exist_ok=True)\n",
    "    # Only copy cdatasets converted to HDF5 files to host drive\n",
    "    !cp /content/drive/MyDrive/ColabData/07-Capstone/DataSetBrainTumor/*.h5 DataSetBrainTumor/   \n",
    "    !cp -R /content/drive/MyDrive/DataSciProjects/GL-IDSS-ADSB/07-Capstone/btc .\n",
    "    \n",
    "    # Setup Paths for reading dataset and creating output (Google Drive)\n",
    "    dataPath = \"./DataSetBrainTumor\"\n",
    "    outputPath = '/content/drive/MyDrive/MIT-IDSS-Capstone/07-Capstone/notebooks/output'\n",
    "else:\n",
    "    # Setup Paths for reading dataset and creating output\n",
    "    dataPath = '../DataSetBrainTumor' # dir or link to dir for running local\n",
    "    outputPath = './output' # dir or link to dir (usually under the location of current notebook)\n",
    "\n",
    "outputPath = os.path.join(outputPath,outputSubfolder)\n",
    "# Output path for figures, models, and model-tuning\n",
    "modelPath = os.path.join(outputPath,'models')\n",
    "figurePath = os.path.join(outputPath,'figures')\n",
    "modelTunerPath = os.path.join(outputPath,'model-tuner')\n",
    "\n",
    "# Create output paths if not exist\n",
    "pathlib.Path(modelPath).mkdir(parents=True,exist_ok=True)\n",
    "pathlib.Path(figurePath).mkdir(parents=True,exist_ok=True)\n",
    "pathlib.Path(modelTunerPath).mkdir(parents=True,exist_ok=True)\n",
    "    \n",
    "# print data location and files:\n",
    "print(f'\\nContents of data folder [{dataPath}]')\n",
    "print(os.listdir(dataPath))\n",
    "# print python src location and files:\n",
    "print(f'\\nContents of python source folder [btc]')\n",
    "print(os.listdir('btc'))\n",
    "# print output folder locations\n",
    "print(f'\\nOutput folders [{outputPath}]')\n",
    "print(os.listdir(outputPath))\n",
    "print(f'\\nPrefix for all saved files {saveFilePrefix}')\n",
    "print()\n"
   ]
  },
  {
   "cell_type": "code",
   "execution_count": 3,
   "metadata": {
    "colab": {
     "base_uri": "https://localhost:8080/"
    },
    "executionInfo": {
     "elapsed": 8306,
     "status": "ok",
     "timestamp": 1611763874736,
     "user": {
      "displayName": "Chenchal Subraveti",
      "photoUrl": "https://lh3.googleusercontent.com/a-/AOh14GivNJKKfSuSNWZpsmU1hP-d0E3xv1_9NB9fawlJMg=s64",
      "userId": "09393776770483346358"
     },
     "user_tz": 360
    },
    "id": "bouozOiOiBoY",
    "outputId": "4a7d4c26-207c-4066-d2db-2f9b13be5034"
   },
   "outputs": [
    {
     "name": "stdout",
     "output_type": "stream",
     "text": [
      "Running on CPU\n"
     ]
    }
   ],
   "source": [
    "import btc.btc_helpers as btc\n",
    "\n",
    "strategy = btc.getCPUorGPUorTPUStrategy()\n"
   ]
  },
  {
   "cell_type": "code",
   "execution_count": 5,
   "metadata": {
    "colab": {
     "base_uri": "https://localhost:8080/",
     "height": 272
    },
    "executionInfo": {
     "elapsed": 2747,
     "status": "ok",
     "timestamp": 1611764028594,
     "user": {
      "displayName": "Chenchal Subraveti",
      "photoUrl": "https://lh3.googleusercontent.com/a-/AOh14GivNJKKfSuSNWZpsmU1hP-d0E3xv1_9NB9fawlJMg=s64",
      "userId": "09393776770483346358"
     },
     "user_tz": 360
    },
    "id": "tintIXbiiBoY",
    "outputId": "17642c0d-6e3a-4096-9b73-37390779c194"
   },
   "outputs": [
    {
     "name": "stdout",
     "output_type": "stream",
     "text": [
      "Updating cache with training and testing datasets\n",
      "Caching train and test datasets\n",
      "Reading HDF5 file ../DataSetBrainTumor/Training_256.h5\n",
      "Reading HDF5 file ../DataSetBrainTumor/Testing_256.h5\n",
      "Returning cached [Original] training and testing datasets\n"
     ]
    },
    {
     "data": {
      "text/html": [
       "<div>\n",
       "<style scoped>\n",
       "    .dataframe tbody tr th:only-of-type {\n",
       "        vertical-align: middle;\n",
       "    }\n",
       "\n",
       "    .dataframe tbody tr th {\n",
       "        vertical-align: top;\n",
       "    }\n",
       "\n",
       "    .dataframe thead th {\n",
       "        text-align: right;\n",
       "    }\n",
       "</style>\n",
       "<table border=\"1\" class=\"dataframe\">\n",
       "  <thead>\n",
       "    <tr style=\"text-align: right;\">\n",
       "      <th></th>\n",
       "      <th>train</th>\n",
       "      <th>trainFraction</th>\n",
       "      <th>test</th>\n",
       "      <th>testFraction</th>\n",
       "    </tr>\n",
       "  </thead>\n",
       "  <tbody>\n",
       "    <tr>\n",
       "      <th>glioma</th>\n",
       "      <td>829.0</td>\n",
       "      <td>0.287747</td>\n",
       "      <td>100.0</td>\n",
       "      <td>0.248756</td>\n",
       "    </tr>\n",
       "    <tr>\n",
       "      <th>meningioma</th>\n",
       "      <td>830.0</td>\n",
       "      <td>0.288094</td>\n",
       "      <td>115.0</td>\n",
       "      <td>0.286070</td>\n",
       "    </tr>\n",
       "    <tr>\n",
       "      <th>no_tumor</th>\n",
       "      <td>395.0</td>\n",
       "      <td>0.137105</td>\n",
       "      <td>113.0</td>\n",
       "      <td>0.281095</td>\n",
       "    </tr>\n",
       "    <tr>\n",
       "      <th>pituitary</th>\n",
       "      <td>827.0</td>\n",
       "      <td>0.287053</td>\n",
       "      <td>74.0</td>\n",
       "      <td>0.184080</td>\n",
       "    </tr>\n",
       "    <tr>\n",
       "      <th>Total</th>\n",
       "      <td>2881.0</td>\n",
       "      <td>1.000000</td>\n",
       "      <td>402.0</td>\n",
       "      <td>1.000000</td>\n",
       "    </tr>\n",
       "  </tbody>\n",
       "</table>\n",
       "</div>"
      ],
      "text/plain": [
       "             train  trainFraction   test  testFraction\n",
       "glioma       829.0       0.287747  100.0      0.248756\n",
       "meningioma   830.0       0.288094  115.0      0.286070\n",
       "no_tumor     395.0       0.137105  113.0      0.281095\n",
       "pituitary    827.0       0.287053   74.0      0.184080\n",
       "Total       2881.0       1.000000  402.0      1.000000"
      ]
     },
     "metadata": {},
     "output_type": "display_data"
    }
   ],
   "source": [
    "dataUtil = btc.DataUtil(dataPath,'Training','Testing')\n",
    "imgSize=256\n",
    "trainArr,testarr,trainDf,testDf = dataUtil.getTrainTestData(imgSize)\n",
    "display(btc.getLabelDistributionDf({'train':trainDf['tumorCategory'],'test':testDf['tumorCategory']}))"
   ]
  },
  {
   "cell_type": "code",
   "execution_count": 7,
   "metadata": {
    "colab": {
     "base_uri": "https://localhost:8080/",
     "height": 256
    },
    "executionInfo": {
     "elapsed": 245,
     "status": "ok",
     "timestamp": 1611764004177,
     "user": {
      "displayName": "Chenchal Subraveti",
      "photoUrl": "https://lh3.googleusercontent.com/a-/AOh14GivNJKKfSuSNWZpsmU1hP-d0E3xv1_9NB9fawlJMg=s64",
      "userId": "09393776770483346358"
     },
     "user_tz": 360
    },
    "id": "S0mVz7dznUZ6",
    "outputId": "214b888f-7d83-4817-fcfb-a68e53a62046"
   },
   "outputs": [
    {
     "name": "stdout",
     "output_type": "stream",
     "text": [
      "Updating cache with training and testing datasets\n",
      "Converting dataset to HDF5 files\n",
      "wrote file /Users/subravcr/Google Drive/DataSciProjects/GL-IDSS-ADSB/DataSetBrainTumor/Training_150.h5\n",
      "Reading HDF5 file ../DataSetBrainTumor/Training_150.h5\n",
      "wrote file /Users/subravcr/Google Drive/DataSciProjects/GL-IDSS-ADSB/DataSetBrainTumor/Testing_150.h5\n",
      "Reading HDF5 file ../DataSetBrainTumor/Testing_150.h5\n",
      "Caching train and test datasets\n",
      "Reading HDF5 file ../DataSetBrainTumor/Training_150.h5\n",
      "Reading HDF5 file ../DataSetBrainTumor/Testing_150.h5\n",
      "merging cached training and testing datasets\n",
      "\n",
      "Splitting ratio for merged dataset is set to 0.20\n",
      "Returning cached [Merged&Split] training and testing datasets\n"
     ]
    },
    {
     "data": {
      "text/html": [
       "<div>\n",
       "<style scoped>\n",
       "    .dataframe tbody tr th:only-of-type {\n",
       "        vertical-align: middle;\n",
       "    }\n",
       "\n",
       "    .dataframe tbody tr th {\n",
       "        vertical-align: top;\n",
       "    }\n",
       "\n",
       "    .dataframe thead th {\n",
       "        text-align: right;\n",
       "    }\n",
       "</style>\n",
       "<table border=\"1\" class=\"dataframe\">\n",
       "  <thead>\n",
       "    <tr style=\"text-align: right;\">\n",
       "      <th></th>\n",
       "      <th>train</th>\n",
       "      <th>trainFraction</th>\n",
       "      <th>test</th>\n",
       "      <th>testFraction</th>\n",
       "    </tr>\n",
       "  </thead>\n",
       "  <tbody>\n",
       "    <tr>\n",
       "      <th>glioma</th>\n",
       "      <td>718.0</td>\n",
       "      <td>0.273420</td>\n",
       "      <td>211.0</td>\n",
       "      <td>0.321157</td>\n",
       "    </tr>\n",
       "    <tr>\n",
       "      <th>meningioma</th>\n",
       "      <td>763.0</td>\n",
       "      <td>0.290556</td>\n",
       "      <td>182.0</td>\n",
       "      <td>0.277017</td>\n",
       "    </tr>\n",
       "    <tr>\n",
       "      <th>no_tumor</th>\n",
       "      <td>414.0</td>\n",
       "      <td>0.157654</td>\n",
       "      <td>94.0</td>\n",
       "      <td>0.143075</td>\n",
       "    </tr>\n",
       "    <tr>\n",
       "      <th>pituitary</th>\n",
       "      <td>731.0</td>\n",
       "      <td>0.278370</td>\n",
       "      <td>170.0</td>\n",
       "      <td>0.258752</td>\n",
       "    </tr>\n",
       "    <tr>\n",
       "      <th>Total</th>\n",
       "      <td>2626.0</td>\n",
       "      <td>1.000000</td>\n",
       "      <td>657.0</td>\n",
       "      <td>1.000000</td>\n",
       "    </tr>\n",
       "  </tbody>\n",
       "</table>\n",
       "</div>"
      ],
      "text/plain": [
       "             train  trainFraction   test  testFraction\n",
       "glioma       718.0       0.273420  211.0      0.321157\n",
       "meningioma   763.0       0.290556  182.0      0.277017\n",
       "no_tumor     414.0       0.157654   94.0      0.143075\n",
       "pituitary    731.0       0.278370  170.0      0.258752\n",
       "Total       2626.0       1.000000  657.0      1.000000"
      ]
     },
     "metadata": {},
     "output_type": "display_data"
    }
   ],
   "source": [
    "# Run local so that the HDF5 file is generated, \n",
    "# On Colab it will take a long time unless the data folders are copied to the remote host\n",
    "\n",
    "# trainArr,testarr,trainDf,testDf = dataUtil.getTrainTestData(150,mergeSplit='all')\n",
    "# display(btc.getLabelDistributionDf({'train':trainDf['tumorCategory'],'test':testDf['tumorCategory']}))"
   ]
  },
  {
   "cell_type": "code",
   "execution_count": null,
   "metadata": {},
   "outputs": [],
   "source": []
  }
 ],
 "metadata": {
  "accelerator": "TPU",
  "colab": {
   "collapsed_sections": [],
   "name": "BTC_CNN_Classification.ipynb",
   "provenance": [],
   "toc_visible": true
  },
  "kernelspec": {
   "display_name": "Python 3",
   "language": "python",
   "name": "python3"
  },
  "language_info": {
   "codemirror_mode": {
    "name": "ipython",
    "version": 3
   },
   "file_extension": ".py",
   "mimetype": "text/x-python",
   "name": "python",
   "nbconvert_exporter": "python",
   "pygments_lexer": "ipython3",
   "version": "3.7.8"
  }
 },
 "nbformat": 4,
 "nbformat_minor": 1
}
